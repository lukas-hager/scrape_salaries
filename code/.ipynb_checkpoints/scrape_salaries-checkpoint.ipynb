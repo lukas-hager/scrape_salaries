{
 "cells": [
  {
   "cell_type": "code",
   "execution_count": null,
   "metadata": {},
   "outputs": [],
   "source": [
    "import requests\n",
    "from bs4 import BeautifulSoup\n",
    "import re\n",
    "import pandas as pd"
   ]
  },
  {
   "cell_type": "code",
   "execution_count": null,
   "metadata": {},
   "outputs": [],
   "source": [
    "raw_html = requests.get('https://www.spotrac.com/nfl/contracts/').text"
   ]
  },
  {
   "cell_type": "code",
   "execution_count": null,
   "metadata": {},
   "outputs": [],
   "source": [
    "bs = BeautifulSoup(raw_html, 'html.parser')"
   ]
  },
  {
   "cell_type": "code",
   "execution_count": null,
   "metadata": {},
   "outputs": [],
   "source": [
    "links = [element.get('href') for element in bs.find_all('a') if re.match('https\\:\\/\\/www\\.spotrac\\.com\\/redirect\\/player\\/\\d+\\/', element.get('href'))]   "
   ]
  },
  {
   "cell_type": "code",
   "execution_count": null,
   "metadata": {},
   "outputs": [],
   "source": [
    "def get_active_contract(link):\n",
    "    bs_page = BeautifulSoup(requests.get(link).text, 'html.parser')\n",
    "    raw_total = [re.sub('\\n', ' ', element.text) for element in bs_page.find_all('tr', {'class': 'salaryRow'}) if re.match('\\d{4}', re.sub('\\n', '', element.text)[:4])]\n",
    "    ufa = [bool(re.search('\\xa0', element)) for element in raw_total].index(True)\n",
    "    current_contract = [re.sub('\\s+|\\(|\\)', ' ', element.strip()).strip() for element in raw_total[:ufa]]\n",
    "    current_contract\n",
    "    output = pd.DataFrame([element.split(' ') for element in current_contract])\n",
    "    cols = [element.text for element in bs_page.find_all('th', {'class': 'header salaryAmt center'})]\n",
    "    \n",
    "    if output.shape[1] == len(cols[:cols.index('Yearly Cash') + 1]) + 2:\n",
    "        df_cols = ['YEAR', 'AGE'] + cols[:cols.index('Yearly Cash') + 1]\n",
    "    else:\n",
    "        df_cols = ['YEAR', 'AGE'] + cols[:cols.index('Yearly Cash') + 1] + ['CUM YEARLY CASH']\n",
    "    \n",
    "    output.columns = df_cols\n",
    "    output['PLAYER'] = bs_page.find('div', {'class': 'player-name'}).h1.text.strip()\n",
    "    output['TEAM'] = bs_page.find('div', {'class': 'player-logo'}).span.text.strip()\n",
    "    return(output)\n"
   ]
  },
  {
   "cell_type": "code",
   "execution_count": null,
   "metadata": {},
   "outputs": [],
   "source": [
    "output_dict = {}\n",
    "\n",
    "for link_val, link in enumerate(links):\n",
    "\n",
    "    try:\n",
    "        output_dict[link] = get_active_contract(link)\n",
    "    except:\n",
    "        print(link)\n",
    "        continue\n",
    "        \n",
    "    if link_val % 100 == 0:\n",
    "        print(link_val)\n",
    "        \n",
    "final = pd.concat(output_dict)\n",
    "final.to_csv('~/spotrac.csv', index = False)"
   ]
  }
 ],
 "metadata": {
  "kernelspec": {
   "display_name": "Python 3",
   "language": "python",
   "name": "python3"
  },
  "language_info": {
   "codemirror_mode": {
    "name": "ipython",
    "version": 3
   },
   "file_extension": ".py",
   "mimetype": "text/x-python",
   "name": "python",
   "nbconvert_exporter": "python",
   "pygments_lexer": "ipython3",
   "version": "3.7.4"
  }
 },
 "nbformat": 4,
 "nbformat_minor": 2
}
